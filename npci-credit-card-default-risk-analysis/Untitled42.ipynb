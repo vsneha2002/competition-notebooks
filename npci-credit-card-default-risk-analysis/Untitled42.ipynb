{
 "cells": [
  {
   "cell_type": "code",
   "execution_count": 1,
   "metadata": {},
   "outputs": [],
   "source": [
    "import numpy as np\n",
    "import pandas as pd"
   ]
  },
  {
   "cell_type": "code",
   "execution_count": 2,
   "metadata": {},
   "outputs": [],
   "source": [
    "df=pd.read_csv('npci_train1.csv')"
   ]
  },
  {
   "cell_type": "code",
   "execution_count": 3,
   "metadata": {},
   "outputs": [],
   "source": [
    "df1=pd.read_csv('npci_test1.csv')"
   ]
  },
  {
   "cell_type": "code",
   "execution_count": 4,
   "metadata": {},
   "outputs": [
    {
     "data": {
      "text/html": [
       "<div>\n",
       "<style scoped>\n",
       "    .dataframe tbody tr th:only-of-type {\n",
       "        vertical-align: middle;\n",
       "    }\n",
       "\n",
       "    .dataframe tbody tr th {\n",
       "        vertical-align: top;\n",
       "    }\n",
       "\n",
       "    .dataframe thead th {\n",
       "        text-align: right;\n",
       "    }\n",
       "</style>\n",
       "<table border=\"1\" class=\"dataframe\">\n",
       "  <thead>\n",
       "    <tr style=\"text-align: right;\">\n",
       "      <th></th>\n",
       "      <th>ID</th>\n",
       "      <th>LIMIT_BAL</th>\n",
       "      <th>SEX</th>\n",
       "      <th>EDUCATION</th>\n",
       "      <th>MARRIAGE</th>\n",
       "      <th>AGE</th>\n",
       "      <th>PAY_0</th>\n",
       "      <th>PAY_2</th>\n",
       "      <th>PAY_3</th>\n",
       "      <th>PAY_4</th>\n",
       "      <th>...</th>\n",
       "      <th>BILL_AMT4</th>\n",
       "      <th>BILL_AMT5</th>\n",
       "      <th>BILL_AMT6</th>\n",
       "      <th>PAY_AMT1</th>\n",
       "      <th>PAY_AMT2</th>\n",
       "      <th>PAY_AMT3</th>\n",
       "      <th>PAY_AMT4</th>\n",
       "      <th>PAY_AMT5</th>\n",
       "      <th>PAY_AMT6</th>\n",
       "      <th>default payment next month</th>\n",
       "    </tr>\n",
       "  </thead>\n",
       "  <tbody>\n",
       "    <tr>\n",
       "      <th>0</th>\n",
       "      <td>0</td>\n",
       "      <td>100000</td>\n",
       "      <td>2</td>\n",
       "      <td>2</td>\n",
       "      <td>2</td>\n",
       "      <td>26</td>\n",
       "      <td>-1</td>\n",
       "      <td>-1</td>\n",
       "      <td>-1</td>\n",
       "      <td>0</td>\n",
       "      <td>...</td>\n",
       "      <td>3542</td>\n",
       "      <td>1980</td>\n",
       "      <td>3980</td>\n",
       "      <td>4210</td>\n",
       "      <td>4159</td>\n",
       "      <td>1000</td>\n",
       "      <td>1080</td>\n",
       "      <td>2000</td>\n",
       "      <td>1525</td>\n",
       "      <td>0</td>\n",
       "    </tr>\n",
       "    <tr>\n",
       "      <th>1</th>\n",
       "      <td>1</td>\n",
       "      <td>100000</td>\n",
       "      <td>1</td>\n",
       "      <td>2</td>\n",
       "      <td>1</td>\n",
       "      <td>47</td>\n",
       "      <td>0</td>\n",
       "      <td>0</td>\n",
       "      <td>2</td>\n",
       "      <td>0</td>\n",
       "      <td>...</td>\n",
       "      <td>64287</td>\n",
       "      <td>67838</td>\n",
       "      <td>66135</td>\n",
       "      <td>7000</td>\n",
       "      <td>0</td>\n",
       "      <td>2500</td>\n",
       "      <td>5500</td>\n",
       "      <td>0</td>\n",
       "      <td>3000</td>\n",
       "      <td>0</td>\n",
       "    </tr>\n",
       "    <tr>\n",
       "      <th>2</th>\n",
       "      <td>2</td>\n",
       "      <td>30000</td>\n",
       "      <td>2</td>\n",
       "      <td>2</td>\n",
       "      <td>2</td>\n",
       "      <td>23</td>\n",
       "      <td>3</td>\n",
       "      <td>3</td>\n",
       "      <td>3</td>\n",
       "      <td>3</td>\n",
       "      <td>...</td>\n",
       "      <td>29176</td>\n",
       "      <td>29958</td>\n",
       "      <td>30520</td>\n",
       "      <td>1200</td>\n",
       "      <td>1200</td>\n",
       "      <td>0</td>\n",
       "      <td>1400</td>\n",
       "      <td>1200</td>\n",
       "      <td>0</td>\n",
       "      <td>1</td>\n",
       "    </tr>\n",
       "    <tr>\n",
       "      <th>3</th>\n",
       "      <td>3</td>\n",
       "      <td>280000</td>\n",
       "      <td>2</td>\n",
       "      <td>1</td>\n",
       "      <td>2</td>\n",
       "      <td>31</td>\n",
       "      <td>2</td>\n",
       "      <td>-1</td>\n",
       "      <td>-1</td>\n",
       "      <td>-2</td>\n",
       "      <td>...</td>\n",
       "      <td>0</td>\n",
       "      <td>0</td>\n",
       "      <td>0</td>\n",
       "      <td>168</td>\n",
       "      <td>0</td>\n",
       "      <td>0</td>\n",
       "      <td>0</td>\n",
       "      <td>0</td>\n",
       "      <td>0</td>\n",
       "      <td>0</td>\n",
       "    </tr>\n",
       "    <tr>\n",
       "      <th>4</th>\n",
       "      <td>4</td>\n",
       "      <td>210000</td>\n",
       "      <td>1</td>\n",
       "      <td>2</td>\n",
       "      <td>1</td>\n",
       "      <td>54</td>\n",
       "      <td>2</td>\n",
       "      <td>-1</td>\n",
       "      <td>-1</td>\n",
       "      <td>-1</td>\n",
       "      <td>...</td>\n",
       "      <td>485</td>\n",
       "      <td>210</td>\n",
       "      <td>3483</td>\n",
       "      <td>176</td>\n",
       "      <td>195</td>\n",
       "      <td>485</td>\n",
       "      <td>0</td>\n",
       "      <td>4466</td>\n",
       "      <td>417</td>\n",
       "      <td>0</td>\n",
       "    </tr>\n",
       "  </tbody>\n",
       "</table>\n",
       "<p>5 rows × 25 columns</p>\n",
       "</div>"
      ],
      "text/plain": [
       "   ID  LIMIT_BAL  SEX  EDUCATION  MARRIAGE  AGE  PAY_0  PAY_2  PAY_3  PAY_4  \\\n",
       "0   0     100000    2          2         2   26     -1     -1     -1      0   \n",
       "1   1     100000    1          2         1   47      0      0      2      0   \n",
       "2   2      30000    2          2         2   23      3      3      3      3   \n",
       "3   3     280000    2          1         2   31      2     -1     -1     -2   \n",
       "4   4     210000    1          2         1   54      2     -1     -1     -1   \n",
       "\n",
       "   ...  BILL_AMT4  BILL_AMT5  BILL_AMT6  PAY_AMT1  PAY_AMT2  PAY_AMT3  \\\n",
       "0  ...       3542       1980       3980      4210      4159      1000   \n",
       "1  ...      64287      67838      66135      7000         0      2500   \n",
       "2  ...      29176      29958      30520      1200      1200         0   \n",
       "3  ...          0          0          0       168         0         0   \n",
       "4  ...        485        210       3483       176       195       485   \n",
       "\n",
       "   PAY_AMT4  PAY_AMT5  PAY_AMT6  default payment next month  \n",
       "0      1080      2000      1525                           0  \n",
       "1      5500         0      3000                           0  \n",
       "2      1400      1200         0                           1  \n",
       "3         0         0         0                           0  \n",
       "4         0      4466       417                           0  \n",
       "\n",
       "[5 rows x 25 columns]"
      ]
     },
     "execution_count": 4,
     "metadata": {},
     "output_type": "execute_result"
    }
   ],
   "source": [
    "df.head()"
   ]
  },
  {
   "cell_type": "code",
   "execution_count": 5,
   "metadata": {},
   "outputs": [
    {
     "data": {
      "text/html": [
       "<div>\n",
       "<style scoped>\n",
       "    .dataframe tbody tr th:only-of-type {\n",
       "        vertical-align: middle;\n",
       "    }\n",
       "\n",
       "    .dataframe tbody tr th {\n",
       "        vertical-align: top;\n",
       "    }\n",
       "\n",
       "    .dataframe thead th {\n",
       "        text-align: right;\n",
       "    }\n",
       "</style>\n",
       "<table border=\"1\" class=\"dataframe\">\n",
       "  <thead>\n",
       "    <tr style=\"text-align: right;\">\n",
       "      <th></th>\n",
       "      <th>ID</th>\n",
       "      <th>LIMIT_BAL</th>\n",
       "      <th>SEX</th>\n",
       "      <th>EDUCATION</th>\n",
       "      <th>MARRIAGE</th>\n",
       "      <th>AGE</th>\n",
       "      <th>PAY_0</th>\n",
       "      <th>PAY_2</th>\n",
       "      <th>PAY_3</th>\n",
       "      <th>PAY_4</th>\n",
       "      <th>...</th>\n",
       "      <th>BILL_AMT3</th>\n",
       "      <th>BILL_AMT4</th>\n",
       "      <th>BILL_AMT5</th>\n",
       "      <th>BILL_AMT6</th>\n",
       "      <th>PAY_AMT1</th>\n",
       "      <th>PAY_AMT2</th>\n",
       "      <th>PAY_AMT3</th>\n",
       "      <th>PAY_AMT4</th>\n",
       "      <th>PAY_AMT5</th>\n",
       "      <th>PAY_AMT6</th>\n",
       "    </tr>\n",
       "  </thead>\n",
       "  <tbody>\n",
       "    <tr>\n",
       "      <th>0</th>\n",
       "      <td>27000</td>\n",
       "      <td>30000</td>\n",
       "      <td>1</td>\n",
       "      <td>2</td>\n",
       "      <td>2</td>\n",
       "      <td>25</td>\n",
       "      <td>0</td>\n",
       "      <td>0</td>\n",
       "      <td>0</td>\n",
       "      <td>0</td>\n",
       "      <td>...</td>\n",
       "      <td>11581</td>\n",
       "      <td>12580</td>\n",
       "      <td>13716</td>\n",
       "      <td>14828</td>\n",
       "      <td>1500</td>\n",
       "      <td>2000</td>\n",
       "      <td>1500</td>\n",
       "      <td>1500</td>\n",
       "      <td>1500</td>\n",
       "      <td>2000</td>\n",
       "    </tr>\n",
       "    <tr>\n",
       "      <th>1</th>\n",
       "      <td>27001</td>\n",
       "      <td>150000</td>\n",
       "      <td>2</td>\n",
       "      <td>1</td>\n",
       "      <td>2</td>\n",
       "      <td>26</td>\n",
       "      <td>0</td>\n",
       "      <td>0</td>\n",
       "      <td>0</td>\n",
       "      <td>0</td>\n",
       "      <td>...</td>\n",
       "      <td>116684</td>\n",
       "      <td>101581</td>\n",
       "      <td>77741</td>\n",
       "      <td>77264</td>\n",
       "      <td>4486</td>\n",
       "      <td>4235</td>\n",
       "      <td>3161</td>\n",
       "      <td>2647</td>\n",
       "      <td>2669</td>\n",
       "      <td>2669</td>\n",
       "    </tr>\n",
       "    <tr>\n",
       "      <th>2</th>\n",
       "      <td>27002</td>\n",
       "      <td>70000</td>\n",
       "      <td>2</td>\n",
       "      <td>3</td>\n",
       "      <td>1</td>\n",
       "      <td>32</td>\n",
       "      <td>0</td>\n",
       "      <td>0</td>\n",
       "      <td>0</td>\n",
       "      <td>0</td>\n",
       "      <td>...</td>\n",
       "      <td>68530</td>\n",
       "      <td>69753</td>\n",
       "      <td>70111</td>\n",
       "      <td>70212</td>\n",
       "      <td>2431</td>\n",
       "      <td>3112</td>\n",
       "      <td>3000</td>\n",
       "      <td>2438</td>\n",
       "      <td>2500</td>\n",
       "      <td>2554</td>\n",
       "    </tr>\n",
       "    <tr>\n",
       "      <th>3</th>\n",
       "      <td>27003</td>\n",
       "      <td>130000</td>\n",
       "      <td>1</td>\n",
       "      <td>3</td>\n",
       "      <td>2</td>\n",
       "      <td>49</td>\n",
       "      <td>0</td>\n",
       "      <td>0</td>\n",
       "      <td>0</td>\n",
       "      <td>0</td>\n",
       "      <td>...</td>\n",
       "      <td>16172</td>\n",
       "      <td>16898</td>\n",
       "      <td>11236</td>\n",
       "      <td>6944</td>\n",
       "      <td>1610</td>\n",
       "      <td>1808</td>\n",
       "      <td>7014</td>\n",
       "      <td>27</td>\n",
       "      <td>7011</td>\n",
       "      <td>4408</td>\n",
       "    </tr>\n",
       "    <tr>\n",
       "      <th>4</th>\n",
       "      <td>27004</td>\n",
       "      <td>50000</td>\n",
       "      <td>2</td>\n",
       "      <td>2</td>\n",
       "      <td>2</td>\n",
       "      <td>36</td>\n",
       "      <td>0</td>\n",
       "      <td>0</td>\n",
       "      <td>0</td>\n",
       "      <td>0</td>\n",
       "      <td>...</td>\n",
       "      <td>42361</td>\n",
       "      <td>19574</td>\n",
       "      <td>20295</td>\n",
       "      <td>19439</td>\n",
       "      <td>2000</td>\n",
       "      <td>1500</td>\n",
       "      <td>1000</td>\n",
       "      <td>1800</td>\n",
       "      <td>0</td>\n",
       "      <td>1000</td>\n",
       "    </tr>\n",
       "  </tbody>\n",
       "</table>\n",
       "<p>5 rows × 24 columns</p>\n",
       "</div>"
      ],
      "text/plain": [
       "      ID  LIMIT_BAL  SEX  EDUCATION  MARRIAGE  AGE  PAY_0  PAY_2  PAY_3  \\\n",
       "0  27000      30000    1          2         2   25      0      0      0   \n",
       "1  27001     150000    2          1         2   26      0      0      0   \n",
       "2  27002      70000    2          3         1   32      0      0      0   \n",
       "3  27003     130000    1          3         2   49      0      0      0   \n",
       "4  27004      50000    2          2         2   36      0      0      0   \n",
       "\n",
       "   PAY_4  ...  BILL_AMT3  BILL_AMT4  BILL_AMT5  BILL_AMT6  PAY_AMT1  PAY_AMT2  \\\n",
       "0      0  ...      11581      12580      13716      14828      1500      2000   \n",
       "1      0  ...     116684     101581      77741      77264      4486      4235   \n",
       "2      0  ...      68530      69753      70111      70212      2431      3112   \n",
       "3      0  ...      16172      16898      11236       6944      1610      1808   \n",
       "4      0  ...      42361      19574      20295      19439      2000      1500   \n",
       "\n",
       "   PAY_AMT3  PAY_AMT4  PAY_AMT5  PAY_AMT6  \n",
       "0      1500      1500      1500      2000  \n",
       "1      3161      2647      2669      2669  \n",
       "2      3000      2438      2500      2554  \n",
       "3      7014        27      7011      4408  \n",
       "4      1000      1800         0      1000  \n",
       "\n",
       "[5 rows x 24 columns]"
      ]
     },
     "execution_count": 5,
     "metadata": {},
     "output_type": "execute_result"
    }
   ],
   "source": [
    "df1.head()"
   ]
  },
  {
   "cell_type": "code",
   "execution_count": 6,
   "metadata": {},
   "outputs": [
    {
     "data": {
      "text/plain": [
       "array([0, 1], dtype=int64)"
      ]
     },
     "execution_count": 6,
     "metadata": {},
     "output_type": "execute_result"
    }
   ],
   "source": [
    "df['default payment next month'].unique()"
   ]
  },
  {
   "cell_type": "code",
   "execution_count": 7,
   "metadata": {},
   "outputs": [
    {
     "data": {
      "text/plain": [
       "array([2, 1], dtype=int64)"
      ]
     },
     "execution_count": 7,
     "metadata": {},
     "output_type": "execute_result"
    }
   ],
   "source": [
    "df['SEX'].unique()"
   ]
  },
  {
   "cell_type": "code",
   "execution_count": 8,
   "metadata": {},
   "outputs": [
    {
     "data": {
      "text/plain": [
       "array([2, 1, 3, 5, 4, 0, 6], dtype=int64)"
      ]
     },
     "execution_count": 8,
     "metadata": {},
     "output_type": "execute_result"
    }
   ],
   "source": [
    "df['EDUCATION'].unique()"
   ]
  },
  {
   "cell_type": "code",
   "execution_count": 9,
   "metadata": {},
   "outputs": [
    {
     "data": {
      "text/plain": [
       "ID                            False\n",
       "LIMIT_BAL                     False\n",
       "SEX                           False\n",
       "EDUCATION                     False\n",
       "MARRIAGE                      False\n",
       "AGE                           False\n",
       "PAY_0                         False\n",
       "PAY_2                         False\n",
       "PAY_3                         False\n",
       "PAY_4                         False\n",
       "PAY_5                         False\n",
       "PAY_6                         False\n",
       "BILL_AMT1                     False\n",
       "BILL_AMT2                     False\n",
       "BILL_AMT3                     False\n",
       "BILL_AMT4                     False\n",
       "BILL_AMT5                     False\n",
       "BILL_AMT6                     False\n",
       "PAY_AMT1                      False\n",
       "PAY_AMT2                      False\n",
       "PAY_AMT3                      False\n",
       "PAY_AMT4                      False\n",
       "PAY_AMT5                      False\n",
       "PAY_AMT6                      False\n",
       "default payment next month    False\n",
       "dtype: bool"
      ]
     },
     "execution_count": 9,
     "metadata": {},
     "output_type": "execute_result"
    }
   ],
   "source": [
    "df.isnull().any()"
   ]
  },
  {
   "cell_type": "code",
   "execution_count": 10,
   "metadata": {},
   "outputs": [
    {
     "data": {
      "text/plain": [
       "ID           False\n",
       "LIMIT_BAL    False\n",
       "SEX          False\n",
       "EDUCATION    False\n",
       "MARRIAGE     False\n",
       "AGE          False\n",
       "PAY_0        False\n",
       "PAY_2        False\n",
       "PAY_3        False\n",
       "PAY_4        False\n",
       "PAY_5        False\n",
       "PAY_6        False\n",
       "BILL_AMT1    False\n",
       "BILL_AMT2    False\n",
       "BILL_AMT3    False\n",
       "BILL_AMT4    False\n",
       "BILL_AMT5    False\n",
       "BILL_AMT6    False\n",
       "PAY_AMT1     False\n",
       "PAY_AMT2     False\n",
       "PAY_AMT3     False\n",
       "PAY_AMT4     False\n",
       "PAY_AMT5     False\n",
       "PAY_AMT6     False\n",
       "dtype: bool"
      ]
     },
     "execution_count": 10,
     "metadata": {},
     "output_type": "execute_result"
    }
   ],
   "source": [
    "df1.isnull().any()"
   ]
  },
  {
   "cell_type": "code",
   "execution_count": null,
   "metadata": {},
   "outputs": [],
   "source": []
  },
  {
   "cell_type": "code",
   "execution_count": 11,
   "metadata": {},
   "outputs": [],
   "source": [
    "#Feature selection"
   ]
  },
  {
   "cell_type": "code",
   "execution_count": 12,
   "metadata": {},
   "outputs": [],
   "source": [
    "X=df.drop(\"default payment next month\",axis=1)\n"
   ]
  },
  {
   "cell_type": "code",
   "execution_count": 13,
   "metadata": {},
   "outputs": [],
   "source": [
    "y=df['default payment next month']"
   ]
  },
  {
   "cell_type": "code",
   "execution_count": 14,
   "metadata": {},
   "outputs": [
    {
     "data": {
      "image/png": "[encoded data removed]",
      "text/plain": [
       "<Figure size 864x720 with 2 Axes>"
      ]
     },
     "metadata": {
      "needs_background": "light"
     },
     "output_type": "display_data"
    }
   ],
   "source": [
    "import matplotlib.pyplot as plt\n",
    "import seaborn as sns\n",
    "plt.figure(figsize=(12,10))\n",
    "cor=X.corr()\n",
    "sns.heatmap(cor,annot=True,cmap=plt.cm.CMRmap_r)\n",
    "plt.show()"
   ]
  },
  {
   "cell_type": "code",
   "execution_count": 15,
   "metadata": {},
   "outputs": [
    {
     "data": {
      "text/html": [
       "<div>\n",
       "<style scoped>\n",
       "    .dataframe tbody tr th:only-of-type {\n",
       "        vertical-align: middle;\n",
       "    }\n",
       "\n",
       "    .dataframe tbody tr th {\n",
       "        vertical-align: top;\n",
       "    }\n",
       "\n",
       "    .dataframe thead th {\n",
       "        text-align: right;\n",
       "    }\n",
       "</style>\n",
       "<table border=\"1\" class=\"dataframe\">\n",
       "  <thead>\n",
       "    <tr style=\"text-align: right;\">\n",
       "      <th></th>\n",
       "      <th>ID</th>\n",
       "      <th>LIMIT_BAL</th>\n",
       "      <th>SEX</th>\n",
       "      <th>EDUCATION</th>\n",
       "      <th>MARRIAGE</th>\n",
       "      <th>AGE</th>\n",
       "      <th>PAY_0</th>\n",
       "      <th>PAY_2</th>\n",
       "      <th>PAY_3</th>\n",
       "      <th>PAY_4</th>\n",
       "      <th>...</th>\n",
       "      <th>BILL_AMT3</th>\n",
       "      <th>BILL_AMT4</th>\n",
       "      <th>BILL_AMT5</th>\n",
       "      <th>BILL_AMT6</th>\n",
       "      <th>PAY_AMT1</th>\n",
       "      <th>PAY_AMT2</th>\n",
       "      <th>PAY_AMT3</th>\n",
       "      <th>PAY_AMT4</th>\n",
       "      <th>PAY_AMT5</th>\n",
       "      <th>PAY_AMT6</th>\n",
       "    </tr>\n",
       "  </thead>\n",
       "  <tbody>\n",
       "    <tr>\n",
       "      <th>ID</th>\n",
       "      <td>1.000000</td>\n",
       "      <td>-0.002380</td>\n",
       "      <td>0.002873</td>\n",
       "      <td>-0.006737</td>\n",
       "      <td>-0.013884</td>\n",
       "      <td>0.001241</td>\n",
       "      <td>0.005345</td>\n",
       "      <td>0.002577</td>\n",
       "      <td>0.000993</td>\n",
       "      <td>-0.001847</td>\n",
       "      <td>...</td>\n",
       "      <td>-0.004656</td>\n",
       "      <td>-0.005575</td>\n",
       "      <td>-0.005840</td>\n",
       "      <td>-0.003468</td>\n",
       "      <td>-0.001737</td>\n",
       "      <td>0.005451</td>\n",
       "      <td>-0.009498</td>\n",
       "      <td>-0.002860</td>\n",
       "      <td>-0.000666</td>\n",
       "      <td>-0.003741</td>\n",
       "    </tr>\n",
       "    <tr>\n",
       "      <th>LIMIT_BAL</th>\n",
       "      <td>-0.002380</td>\n",
       "      <td>1.000000</td>\n",
       "      <td>0.023411</td>\n",
       "      <td>-0.223431</td>\n",
       "      <td>-0.108816</td>\n",
       "      <td>0.147515</td>\n",
       "      <td>-0.269552</td>\n",
       "      <td>-0.296022</td>\n",
       "      <td>-0.285657</td>\n",
       "      <td>-0.266785</td>\n",
       "      <td>...</td>\n",
       "      <td>0.285404</td>\n",
       "      <td>0.296087</td>\n",
       "      <td>0.298308</td>\n",
       "      <td>0.292921</td>\n",
       "      <td>0.195721</td>\n",
       "      <td>0.175207</td>\n",
       "      <td>0.210022</td>\n",
       "      <td>0.204444</td>\n",
       "      <td>0.218232</td>\n",
       "      <td>0.221658</td>\n",
       "    </tr>\n",
       "    <tr>\n",
       "      <th>SEX</th>\n",
       "      <td>0.002873</td>\n",
       "      <td>0.023411</td>\n",
       "      <td>1.000000</td>\n",
       "      <td>0.010029</td>\n",
       "      <td>-0.031314</td>\n",
       "      <td>-0.093198</td>\n",
       "      <td>-0.063056</td>\n",
       "      <td>-0.074474</td>\n",
       "      <td>-0.070165</td>\n",
       "      <td>-0.062942</td>\n",
       "      <td>...</td>\n",
       "      <td>-0.028841</td>\n",
       "      <td>-0.025667</td>\n",
       "      <td>-0.020752</td>\n",
       "      <td>-0.020816</td>\n",
       "      <td>-0.001798</td>\n",
       "      <td>-0.003179</td>\n",
       "      <td>-0.007283</td>\n",
       "      <td>-0.002542</td>\n",
       "      <td>-0.004032</td>\n",
       "      <td>-0.006697</td>\n",
       "    </tr>\n",
       "    <tr>\n",
       "      <th>EDUCATION</th>\n",
       "      <td>-0.006737</td>\n",
       "      <td>-0.223431</td>\n",
       "      <td>0.010029</td>\n",
       "      <td>1.000000</td>\n",
       "      <td>-0.139774</td>\n",
       "      <td>0.172487</td>\n",
       "      <td>0.105769</td>\n",
       "      <td>0.121684</td>\n",
       "      <td>0.114419</td>\n",
       "      <td>0.108185</td>\n",
       "      <td>...</td>\n",
       "      <td>0.011702</td>\n",
       "      <td>-0.002519</td>\n",
       "      <td>-0.009284</td>\n",
       "      <td>-0.011411</td>\n",
       "      <td>-0.036706</td>\n",
       "      <td>-0.029508</td>\n",
       "      <td>-0.041749</td>\n",
       "      <td>-0.038851</td>\n",
       "      <td>-0.042391</td>\n",
       "      <td>-0.039308</td>\n",
       "    </tr>\n",
       "    <tr>\n",
       "      <th>MARRIAGE</th>\n",
       "      <td>-0.013884</td>\n",
       "      <td>-0.108816</td>\n",
       "      <td>-0.031314</td>\n",
       "      <td>-0.139774</td>\n",
       "      <td>1.000000</td>\n",
       "      <td>-0.411753</td>\n",
       "      <td>0.022435</td>\n",
       "      <td>0.026028</td>\n",
       "      <td>0.034541</td>\n",
       "      <td>0.033906</td>\n",
       "      <td>...</td>\n",
       "      <td>-0.023699</td>\n",
       "      <td>-0.022182</td>\n",
       "      <td>-0.025154</td>\n",
       "      <td>-0.019343</td>\n",
       "      <td>-0.006681</td>\n",
       "      <td>-0.008387</td>\n",
       "      <td>-0.000880</td>\n",
       "      <td>-0.012257</td>\n",
       "      <td>0.002515</td>\n",
       "      <td>-0.009108</td>\n",
       "    </tr>\n",
       "    <tr>\n",
       "      <th>AGE</th>\n",
       "      <td>0.001241</td>\n",
       "      <td>0.147515</td>\n",
       "      <td>-0.093198</td>\n",
       "      <td>0.172487</td>\n",
       "      <td>-0.411753</td>\n",
       "      <td>1.000000</td>\n",
       "      <td>-0.041030</td>\n",
       "      <td>-0.051247</td>\n",
       "      <td>-0.055654</td>\n",
       "      <td>-0.053198</td>\n",
       "      <td>...</td>\n",
       "      <td>0.054999</td>\n",
       "      <td>0.052620</td>\n",
       "      <td>0.050921</td>\n",
       "      <td>0.047924</td>\n",
       "      <td>0.028338</td>\n",
       "      <td>0.021790</td>\n",
       "      <td>0.027676</td>\n",
       "      <td>0.023609</td>\n",
       "      <td>0.022080</td>\n",
       "      <td>0.020546</td>\n",
       "    </tr>\n",
       "    <tr>\n",
       "      <th>PAY_0</th>\n",
       "      <td>0.005345</td>\n",
       "      <td>-0.269552</td>\n",
       "      <td>-0.063056</td>\n",
       "      <td>0.105769</td>\n",
       "      <td>0.022435</td>\n",
       "      <td>-0.041030</td>\n",
       "      <td>1.000000</td>\n",
       "      <td>0.674446</td>\n",
       "      <td>0.576722</td>\n",
       "      <td>0.540274</td>\n",
       "      <td>...</td>\n",
       "      <td>0.179523</td>\n",
       "      <td>0.178673</td>\n",
       "      <td>0.179904</td>\n",
       "      <td>0.176066</td>\n",
       "      <td>-0.077247</td>\n",
       "      <td>-0.068020</td>\n",
       "      <td>-0.069489</td>\n",
       "      <td>-0.063606</td>\n",
       "      <td>-0.057256</td>\n",
       "      <td>-0.058243</td>\n",
       "    </tr>\n",
       "    <tr>\n",
       "      <th>PAY_2</th>\n",
       "      <td>0.002577</td>\n",
       "      <td>-0.296022</td>\n",
       "      <td>-0.074474</td>\n",
       "      <td>0.121684</td>\n",
       "      <td>0.026028</td>\n",
       "      <td>-0.051247</td>\n",
       "      <td>0.674446</td>\n",
       "      <td>1.000000</td>\n",
       "      <td>0.766344</td>\n",
       "      <td>0.661571</td>\n",
       "      <td>...</td>\n",
       "      <td>0.222479</td>\n",
       "      <td>0.220853</td>\n",
       "      <td>0.219544</td>\n",
       "      <td>0.217491</td>\n",
       "      <td>-0.080667</td>\n",
       "      <td>-0.057978</td>\n",
       "      <td>-0.055660</td>\n",
       "      <td>-0.047931</td>\n",
       "      <td>-0.037733</td>\n",
       "      <td>-0.036216</td>\n",
       "    </tr>\n",
       "    <tr>\n",
       "      <th>PAY_3</th>\n",
       "      <td>0.000993</td>\n",
       "      <td>-0.285657</td>\n",
       "      <td>-0.070165</td>\n",
       "      <td>0.114419</td>\n",
       "      <td>0.034541</td>\n",
       "      <td>-0.055654</td>\n",
       "      <td>0.576722</td>\n",
       "      <td>0.766344</td>\n",
       "      <td>1.000000</td>\n",
       "      <td>0.776557</td>\n",
       "      <td>...</td>\n",
       "      <td>0.229121</td>\n",
       "      <td>0.229657</td>\n",
       "      <td>0.226941</td>\n",
       "      <td>0.224311</td>\n",
       "      <td>0.002093</td>\n",
       "      <td>-0.065409</td>\n",
       "      <td>-0.052117</td>\n",
       "      <td>-0.046774</td>\n",
       "      <td>-0.035013</td>\n",
       "      <td>-0.033850</td>\n",
       "    </tr>\n",
       "    <tr>\n",
       "      <th>PAY_4</th>\n",
       "      <td>-0.001847</td>\n",
       "      <td>-0.266785</td>\n",
       "      <td>-0.062942</td>\n",
       "      <td>0.108185</td>\n",
       "      <td>0.033906</td>\n",
       "      <td>-0.053198</td>\n",
       "      <td>0.540274</td>\n",
       "      <td>0.661571</td>\n",
       "      <td>0.776557</td>\n",
       "      <td>1.000000</td>\n",
       "      <td>...</td>\n",
       "      <td>0.244733</td>\n",
       "      <td>0.246582</td>\n",
       "      <td>0.243364</td>\n",
       "      <td>0.239802</td>\n",
       "      <td>-0.009797</td>\n",
       "      <td>-0.001949</td>\n",
       "      <td>-0.067876</td>\n",
       "      <td>-0.043194</td>\n",
       "      <td>-0.033908</td>\n",
       "      <td>-0.026315</td>\n",
       "    </tr>\n",
       "    <tr>\n",
       "      <th>PAY_5</th>\n",
       "      <td>-0.006195</td>\n",
       "      <td>-0.248724</td>\n",
       "      <td>-0.058681</td>\n",
       "      <td>0.095734</td>\n",
       "      <td>0.039576</td>\n",
       "      <td>-0.058299</td>\n",
       "      <td>0.510595</td>\n",
       "      <td>0.623262</td>\n",
       "      <td>0.686475</td>\n",
       "      <td>0.817559</td>\n",
       "      <td>...</td>\n",
       "      <td>0.243205</td>\n",
       "      <td>0.272331</td>\n",
       "      <td>0.269565</td>\n",
       "      <td>0.262370</td>\n",
       "      <td>-0.006292</td>\n",
       "      <td>-0.002570</td>\n",
       "      <td>0.011084</td>\n",
       "      <td>-0.058768</td>\n",
       "      <td>-0.033237</td>\n",
       "      <td>-0.022389</td>\n",
       "    </tr>\n",
       "    <tr>\n",
       "      <th>PAY_6</th>\n",
       "      <td>-0.001544</td>\n",
       "      <td>-0.234376</td>\n",
       "      <td>-0.048189</td>\n",
       "      <td>0.079298</td>\n",
       "      <td>0.038409</td>\n",
       "      <td>-0.053845</td>\n",
       "      <td>0.475862</td>\n",
       "      <td>0.575458</td>\n",
       "      <td>0.630956</td>\n",
       "      <td>0.714147</td>\n",
       "      <td>...</td>\n",
       "      <td>0.241181</td>\n",
       "      <td>0.267112</td>\n",
       "      <td>0.291427</td>\n",
       "      <td>0.285833</td>\n",
       "      <td>-0.001637</td>\n",
       "      <td>-0.003931</td>\n",
       "      <td>0.007761</td>\n",
       "      <td>0.017753</td>\n",
       "      <td>-0.046000</td>\n",
       "      <td>-0.024595</td>\n",
       "    </tr>\n",
       "    <tr>\n",
       "      <th>BILL_AMT1</th>\n",
       "      <td>-0.010506</td>\n",
       "      <td>0.287768</td>\n",
       "      <td>-0.037745</td>\n",
       "      <td>0.022019</td>\n",
       "      <td>-0.021568</td>\n",
       "      <td>0.057321</td>\n",
       "      <td>0.187056</td>\n",
       "      <td>0.233072</td>\n",
       "      <td>0.210322</td>\n",
       "      <td>0.202590</td>\n",
       "      <td>...</td>\n",
       "      <td>0.890815</td>\n",
       "      <td>0.858708</td>\n",
       "      <td>0.828473</td>\n",
       "      <td>0.800640</td>\n",
       "      <td>0.139314</td>\n",
       "      <td>0.097092</td>\n",
       "      <td>0.159902</td>\n",
       "      <td>0.157881</td>\n",
       "      <td>0.167214</td>\n",
       "      <td>0.187310</td>\n",
       "    </tr>\n",
       "    <tr>\n",
       "      <th>BILL_AMT2</th>\n",
       "      <td>-0.007869</td>\n",
       "      <td>0.280237</td>\n",
       "      <td>-0.034927</td>\n",
       "      <td>0.017166</td>\n",
       "      <td>-0.019769</td>\n",
       "      <td>0.055771</td>\n",
       "      <td>0.189853</td>\n",
       "      <td>0.233662</td>\n",
       "      <td>0.239449</td>\n",
       "      <td>0.225653</td>\n",
       "      <td>...</td>\n",
       "      <td>0.927085</td>\n",
       "      <td>0.891143</td>\n",
       "      <td>0.858338</td>\n",
       "      <td>0.829785</td>\n",
       "      <td>0.278481</td>\n",
       "      <td>0.099083</td>\n",
       "      <td>0.153759</td>\n",
       "      <td>0.145401</td>\n",
       "      <td>0.158119</td>\n",
       "      <td>0.181931</td>\n",
       "    </tr>\n",
       "    <tr>\n",
       "      <th>BILL_AMT3</th>\n",
       "      <td>-0.004656</td>\n",
       "      <td>0.285404</td>\n",
       "      <td>-0.028841</td>\n",
       "      <td>0.011702</td>\n",
       "      <td>-0.023699</td>\n",
       "      <td>0.054999</td>\n",
       "      <td>0.179523</td>\n",
       "      <td>0.222479</td>\n",
       "      <td>0.229121</td>\n",
       "      <td>0.244733</td>\n",
       "      <td>...</td>\n",
       "      <td>1.000000</td>\n",
       "      <td>0.921598</td>\n",
       "      <td>0.880821</td>\n",
       "      <td>0.850482</td>\n",
       "      <td>0.242258</td>\n",
       "      <td>0.318995</td>\n",
       "      <td>0.130587</td>\n",
       "      <td>0.141277</td>\n",
       "      <td>0.181379</td>\n",
       "      <td>0.184282</td>\n",
       "    </tr>\n",
       "    <tr>\n",
       "      <th>BILL_AMT4</th>\n",
       "      <td>-0.005575</td>\n",
       "      <td>0.296087</td>\n",
       "      <td>-0.025667</td>\n",
       "      <td>-0.002519</td>\n",
       "      <td>-0.022182</td>\n",
       "      <td>0.052620</td>\n",
       "      <td>0.178673</td>\n",
       "      <td>0.220853</td>\n",
       "      <td>0.229657</td>\n",
       "      <td>0.246582</td>\n",
       "      <td>...</td>\n",
       "      <td>0.921598</td>\n",
       "      <td>1.000000</td>\n",
       "      <td>0.938837</td>\n",
       "      <td>0.899336</td>\n",
       "      <td>0.231723</td>\n",
       "      <td>0.205028</td>\n",
       "      <td>0.302112</td>\n",
       "      <td>0.126899</td>\n",
       "      <td>0.159690</td>\n",
       "      <td>0.181495</td>\n",
       "    </tr>\n",
       "    <tr>\n",
       "      <th>BILL_AMT5</th>\n",
       "      <td>-0.005840</td>\n",
       "      <td>0.298308</td>\n",
       "      <td>-0.020752</td>\n",
       "      <td>-0.009284</td>\n",
       "      <td>-0.025154</td>\n",
       "      <td>0.050921</td>\n",
       "      <td>0.179904</td>\n",
       "      <td>0.219544</td>\n",
       "      <td>0.226941</td>\n",
       "      <td>0.243364</td>\n",
       "      <td>...</td>\n",
       "      <td>0.880821</td>\n",
       "      <td>0.938837</td>\n",
       "      <td>1.000000</td>\n",
       "      <td>0.945191</td>\n",
       "      <td>0.215947</td>\n",
       "      <td>0.178536</td>\n",
       "      <td>0.257249</td>\n",
       "      <td>0.293804</td>\n",
       "      <td>0.140710</td>\n",
       "      <td>0.168733</td>\n",
       "    </tr>\n",
       "    <tr>\n",
       "      <th>BILL_AMT6</th>\n",
       "      <td>-0.003468</td>\n",
       "      <td>0.292921</td>\n",
       "      <td>-0.020816</td>\n",
       "      <td>-0.011411</td>\n",
       "      <td>-0.019343</td>\n",
       "      <td>0.047924</td>\n",
       "      <td>0.176066</td>\n",
       "      <td>0.217491</td>\n",
       "      <td>0.224311</td>\n",
       "      <td>0.239802</td>\n",
       "      <td>...</td>\n",
       "      <td>0.850482</td>\n",
       "      <td>0.899336</td>\n",
       "      <td>0.945191</td>\n",
       "      <td>1.000000</td>\n",
       "      <td>0.197840</td>\n",
       "      <td>0.171856</td>\n",
       "      <td>0.238822</td>\n",
       "      <td>0.251123</td>\n",
       "      <td>0.308310</td>\n",
       "      <td>0.119635</td>\n",
       "    </tr>\n",
       "    <tr>\n",
       "      <th>PAY_AMT1</th>\n",
       "      <td>-0.001737</td>\n",
       "      <td>0.195721</td>\n",
       "      <td>-0.001798</td>\n",
       "      <td>-0.036706</td>\n",
       "      <td>-0.006681</td>\n",
       "      <td>0.028338</td>\n",
       "      <td>-0.077247</td>\n",
       "      <td>-0.080667</td>\n",
       "      <td>0.002093</td>\n",
       "      <td>-0.009797</td>\n",
       "      <td>...</td>\n",
       "      <td>0.242258</td>\n",
       "      <td>0.231723</td>\n",
       "      <td>0.215947</td>\n",
       "      <td>0.197840</td>\n",
       "      <td>1.000000</td>\n",
       "      <td>0.293340</td>\n",
       "      <td>0.259970</td>\n",
       "      <td>0.201647</td>\n",
       "      <td>0.143668</td>\n",
       "      <td>0.195626</td>\n",
       "    </tr>\n",
       "    <tr>\n",
       "      <th>PAY_AMT2</th>\n",
       "      <td>0.005451</td>\n",
       "      <td>0.175207</td>\n",
       "      <td>-0.003179</td>\n",
       "      <td>-0.029508</td>\n",
       "      <td>-0.008387</td>\n",
       "      <td>0.021790</td>\n",
       "      <td>-0.068020</td>\n",
       "      <td>-0.057978</td>\n",
       "      <td>-0.065409</td>\n",
       "      <td>-0.001949</td>\n",
       "      <td>...</td>\n",
       "      <td>0.318995</td>\n",
       "      <td>0.205028</td>\n",
       "      <td>0.178536</td>\n",
       "      <td>0.171856</td>\n",
       "      <td>0.293340</td>\n",
       "      <td>1.000000</td>\n",
       "      <td>0.247039</td>\n",
       "      <td>0.181619</td>\n",
       "      <td>0.183217</td>\n",
       "      <td>0.145859</td>\n",
       "    </tr>\n",
       "    <tr>\n",
       "      <th>PAY_AMT3</th>\n",
       "      <td>-0.009498</td>\n",
       "      <td>0.210022</td>\n",
       "      <td>-0.007283</td>\n",
       "      <td>-0.041749</td>\n",
       "      <td>-0.000880</td>\n",
       "      <td>0.027676</td>\n",
       "      <td>-0.069489</td>\n",
       "      <td>-0.055660</td>\n",
       "      <td>-0.052117</td>\n",
       "      <td>-0.067876</td>\n",
       "      <td>...</td>\n",
       "      <td>0.130587</td>\n",
       "      <td>0.302112</td>\n",
       "      <td>0.257249</td>\n",
       "      <td>0.238822</td>\n",
       "      <td>0.259970</td>\n",
       "      <td>0.247039</td>\n",
       "      <td>1.000000</td>\n",
       "      <td>0.216635</td>\n",
       "      <td>0.159249</td>\n",
       "      <td>0.164385</td>\n",
       "    </tr>\n",
       "    <tr>\n",
       "      <th>PAY_AMT4</th>\n",
       "      <td>-0.002860</td>\n",
       "      <td>0.204444</td>\n",
       "      <td>-0.002542</td>\n",
       "      <td>-0.038851</td>\n",
       "      <td>-0.012257</td>\n",
       "      <td>0.023609</td>\n",
       "      <td>-0.063606</td>\n",
       "      <td>-0.047931</td>\n",
       "      <td>-0.046774</td>\n",
       "      <td>-0.043194</td>\n",
       "      <td>...</td>\n",
       "      <td>0.141277</td>\n",
       "      <td>0.126899</td>\n",
       "      <td>0.293804</td>\n",
       "      <td>0.251123</td>\n",
       "      <td>0.201647</td>\n",
       "      <td>0.181619</td>\n",
       "      <td>0.216635</td>\n",
       "      <td>1.000000</td>\n",
       "      <td>0.153416</td>\n",
       "      <td>0.164077</td>\n",
       "    </tr>\n",
       "    <tr>\n",
       "      <th>PAY_AMT5</th>\n",
       "      <td>-0.000666</td>\n",
       "      <td>0.218232</td>\n",
       "      <td>-0.004032</td>\n",
       "      <td>-0.042391</td>\n",
       "      <td>0.002515</td>\n",
       "      <td>0.022080</td>\n",
       "      <td>-0.057256</td>\n",
       "      <td>-0.037733</td>\n",
       "      <td>-0.035013</td>\n",
       "      <td>-0.033908</td>\n",
       "      <td>...</td>\n",
       "      <td>0.181379</td>\n",
       "      <td>0.159690</td>\n",
       "      <td>0.140710</td>\n",
       "      <td>0.308310</td>\n",
       "      <td>0.143668</td>\n",
       "      <td>0.183217</td>\n",
       "      <td>0.159249</td>\n",
       "      <td>0.153416</td>\n",
       "      <td>1.000000</td>\n",
       "      <td>0.158649</td>\n",
       "    </tr>\n",
       "    <tr>\n",
       "      <th>PAY_AMT6</th>\n",
       "      <td>-0.003741</td>\n",
       "      <td>0.221658</td>\n",
       "      <td>-0.006697</td>\n",
       "      <td>-0.039308</td>\n",
       "      <td>-0.009108</td>\n",
       "      <td>0.020546</td>\n",
       "      <td>-0.058243</td>\n",
       "      <td>-0.036216</td>\n",
       "      <td>-0.033850</td>\n",
       "      <td>-0.026315</td>\n",
       "      <td>...</td>\n",
       "      <td>0.184282</td>\n",
       "      <td>0.181495</td>\n",
       "      <td>0.168733</td>\n",
       "      <td>0.119635</td>\n",
       "      <td>0.195626</td>\n",
       "      <td>0.145859</td>\n",
       "      <td>0.164385</td>\n",
       "      <td>0.164077</td>\n",
       "      <td>0.158649</td>\n",
       "      <td>1.000000</td>\n",
       "    </tr>\n",
       "  </tbody>\n",
       "</table>\n",
       "<p>24 rows × 24 columns</p>\n",
       "</div>"
      ],
      "text/plain": [
       "                 ID  LIMIT_BAL       SEX  EDUCATION  MARRIAGE       AGE  \\\n",
       "ID         1.000000  -0.002380  0.002873  -0.006737 -0.013884  0.001241   \n",
       "LIMIT_BAL -0.002380   1.000000  0.023411  -0.223431 -0.108816  0.147515   \n",
       "SEX        0.002873   0.023411  1.000000   0.010029 -0.031314 -0.093198   \n",
       "EDUCATION -0.006737  -0.223431  0.010029   1.000000 -0.139774  0.172487   \n",
       "MARRIAGE  -0.013884  -0.108816 -0.031314  -0.139774  1.000000 -0.411753   \n",
       "AGE        0.001241   0.147515 -0.093198   0.172487 -0.411753  1.000000   \n",
       "PAY_0      0.005345  -0.269552 -0.063056   0.105769  0.022435 -0.041030   \n",
       "PAY_2      0.002577  -0.296022 -0.074474   0.121684  0.026028 -0.051247   \n",
       "PAY_3      0.000993  -0.285657 -0.070165   0.114419  0.034541 -0.055654   \n",
       "PAY_4     -0.001847  -0.266785 -0.062942   0.108185  0.033906 -0.053198   \n",
       "PAY_5     -0.006195  -0.248724 -0.058681   0.095734  0.039576 -0.058299   \n",
       "PAY_6     -0.001544  -0.234376 -0.048189   0.079298  0.038409 -0.053845   \n",
       "BILL_AMT1 -0.010506   0.287768 -0.037745   0.022019 -0.021568  0.057321   \n",
       "BILL_AMT2 -0.007869   0.280237 -0.034927   0.017166 -0.019769  0.055771   \n",
       "BILL_AMT3 -0.004656   0.285404 -0.028841   0.011702 -0.023699  0.054999   \n",
       "BILL_AMT4 -0.005575   0.296087 -0.025667  -0.002519 -0.022182  0.052620   \n",
       "BILL_AMT5 -0.005840   0.298308 -0.020752  -0.009284 -0.025154  0.050921   \n",
       "BILL_AMT6 -0.003468   0.292921 -0.020816  -0.011411 -0.019343  0.047924   \n",
       "PAY_AMT1  -0.001737   0.195721 -0.001798  -0.036706 -0.006681  0.028338   \n",
       "PAY_AMT2   0.005451   0.175207 -0.003179  -0.029508 -0.008387  0.021790   \n",
       "PAY_AMT3  -0.009498   0.210022 -0.007283  -0.041749 -0.000880  0.027676   \n",
       "PAY_AMT4  -0.002860   0.204444 -0.002542  -0.038851 -0.012257  0.023609   \n",
       "PAY_AMT5  -0.000666   0.218232 -0.004032  -0.042391  0.002515  0.022080   \n",
       "PAY_AMT6  -0.003741   0.221658 -0.006697  -0.039308 -0.009108  0.020546   \n",
       "\n",
       "              PAY_0     PAY_2     PAY_3     PAY_4  ...  BILL_AMT3  BILL_AMT4  \\\n",
       "ID         0.005345  0.002577  0.000993 -0.001847  ...  -0.004656  -0.005575   \n",
       "LIMIT_BAL -0.269552 -0.296022 -0.285657 -0.266785  ...   0.285404   0.296087   \n",
       "SEX       -0.063056 -0.074474 -0.070165 -0.062942  ...  -0.028841  -0.025667   \n",
       "EDUCATION  0.105769  0.121684  0.114419  0.108185  ...   0.011702  -0.002519   \n",
       "MARRIAGE   0.022435  0.026028  0.034541  0.033906  ...  -0.023699  -0.022182   \n",
       "AGE       -0.041030 -0.051247 -0.055654 -0.053198  ...   0.054999   0.052620   \n",
       "PAY_0      1.000000  0.674446  0.576722  0.540274  ...   0.179523   0.178673   \n",
       "PAY_2      0.674446  1.000000  0.766344  0.661571  ...   0.222479   0.220853   \n",
       "PAY_3      0.576722  0.766344  1.000000  0.776557  ...   0.229121   0.229657   \n",
       "PAY_4      0.540274  0.661571  0.776557  1.000000  ...   0.244733   0.246582   \n",
       "PAY_5      0.510595  0.623262  0.686475  0.817559  ...   0.243205   0.272331   \n",
       "PAY_6      0.475862  0.575458  0.630956  0.714147  ...   0.241181   0.267112   \n",
       "BILL_AMT1  0.187056  0.233072  0.210322  0.202590  ...   0.890815   0.858708   \n",
       "BILL_AMT2  0.189853  0.233662  0.239449  0.225653  ...   0.927085   0.891143   \n",
       "BILL_AMT3  0.179523  0.222479  0.229121  0.244733  ...   1.000000   0.921598   \n",
       "BILL_AMT4  0.178673  0.220853  0.229657  0.246582  ...   0.921598   1.000000   \n",
       "BILL_AMT5  0.179904  0.219544  0.226941  0.243364  ...   0.880821   0.938837   \n",
       "BILL_AMT6  0.176066  0.217491  0.224311  0.239802  ...   0.850482   0.899336   \n",
       "PAY_AMT1  -0.077247 -0.080667  0.002093 -0.009797  ...   0.242258   0.231723   \n",
       "PAY_AMT2  -0.068020 -0.057978 -0.065409 -0.001949  ...   0.318995   0.205028   \n",
       "PAY_AMT3  -0.069489 -0.055660 -0.052117 -0.067876  ...   0.130587   0.302112   \n",
       "PAY_AMT4  -0.063606 -0.047931 -0.046774 -0.043194  ...   0.141277   0.126899   \n",
       "PAY_AMT5  -0.057256 -0.037733 -0.035013 -0.033908  ...   0.181379   0.159690   \n",
       "PAY_AMT6  -0.058243 -0.036216 -0.033850 -0.026315  ...   0.184282   0.181495   \n",
       "\n",
       "           BILL_AMT5  BILL_AMT6  PAY_AMT1  PAY_AMT2  PAY_AMT3  PAY_AMT4  \\\n",
       "ID         -0.005840  -0.003468 -0.001737  0.005451 -0.009498 -0.002860   \n",
       "LIMIT_BAL   0.298308   0.292921  0.195721  0.175207  0.210022  0.204444   \n",
       "SEX        -0.020752  -0.020816 -0.001798 -0.003179 -0.007283 -0.002542   \n",
       "EDUCATION  -0.009284  -0.011411 -0.036706 -0.029508 -0.041749 -0.038851   \n",
       "MARRIAGE   -0.025154  -0.019343 -0.006681 -0.008387 -0.000880 -0.012257   \n",
       "AGE         0.050921   0.047924  0.028338  0.021790  0.027676  0.023609   \n",
       "PAY_0       0.179904   0.176066 -0.077247 -0.068020 -0.069489 -0.063606   \n",
       "PAY_2       0.219544   0.217491 -0.080667 -0.057978 -0.055660 -0.047931   \n",
       "PAY_3       0.226941   0.224311  0.002093 -0.065409 -0.052117 -0.046774   \n",
       "PAY_4       0.243364   0.239802 -0.009797 -0.001949 -0.067876 -0.043194   \n",
       "PAY_5       0.269565   0.262370 -0.006292 -0.002570  0.011084 -0.058768   \n",
       "PAY_6       0.291427   0.285833 -0.001637 -0.003931  0.007761  0.017753   \n",
       "BILL_AMT1   0.828473   0.800640  0.139314  0.097092  0.159902  0.157881   \n",
       "BILL_AMT2   0.858338   0.829785  0.278481  0.099083  0.153759  0.145401   \n",
       "BILL_AMT3   0.880821   0.850482  0.242258  0.318995  0.130587  0.141277   \n",
       "BILL_AMT4   0.938837   0.899336  0.231723  0.205028  0.302112  0.126899   \n",
       "BILL_AMT5   1.000000   0.945191  0.215947  0.178536  0.257249  0.293804   \n",
       "BILL_AMT6   0.945191   1.000000  0.197840  0.171856  0.238822  0.251123   \n",
       "PAY_AMT1    0.215947   0.197840  1.000000  0.293340  0.259970  0.201647   \n",
       "PAY_AMT2    0.178536   0.171856  0.293340  1.000000  0.247039  0.181619   \n",
       "PAY_AMT3    0.257249   0.238822  0.259970  0.247039  1.000000  0.216635   \n",
       "PAY_AMT4    0.293804   0.251123  0.201647  0.181619  0.216635  1.000000   \n",
       "PAY_AMT5    0.140710   0.308310  0.143668  0.183217  0.159249  0.153416   \n",
       "PAY_AMT6    0.168733   0.119635  0.195626  0.145859  0.164385  0.164077   \n",
       "\n",
       "           PAY_AMT5  PAY_AMT6  \n",
       "ID        -0.000666 -0.003741  \n",
       "LIMIT_BAL  0.218232  0.221658  \n",
       "SEX       -0.004032 -0.006697  \n",
       "EDUCATION -0.042391 -0.039308  \n",
       "MARRIAGE   0.002515 -0.009108  \n",
       "AGE        0.022080  0.020546  \n",
       "PAY_0     -0.057256 -0.058243  \n",
       "PAY_2     -0.037733 -0.036216  \n",
       "PAY_3     -0.035013 -0.033850  \n",
       "PAY_4     -0.033908 -0.026315  \n",
       "PAY_5     -0.033237 -0.022389  \n",
       "PAY_6     -0.046000 -0.024595  \n",
       "BILL_AMT1  0.167214  0.187310  \n",
       "BILL_AMT2  0.158119  0.181931  \n",
       "BILL_AMT3  0.181379  0.184282  \n",
       "BILL_AMT4  0.159690  0.181495  \n",
       "BILL_AMT5  0.140710  0.168733  \n",
       "BILL_AMT6  0.308310  0.119635  \n",
       "PAY_AMT1   0.143668  0.195626  \n",
       "PAY_AMT2   0.183217  0.145859  \n",
       "PAY_AMT3   0.159249  0.164385  \n",
       "PAY_AMT4   0.153416  0.164077  \n",
       "PAY_AMT5   1.000000  0.158649  \n",
       "PAY_AMT6   0.158649  1.000000  \n",
       "\n",
       "[24 rows x 24 columns]"
      ]
     },
     "execution_count": 15,
     "metadata": {},
     "output_type": "execute_result"
    }
   ],
   "source": [
    "X.corr()"
   ]
  },
  {
   "cell_type": "code",
   "execution_count": 16,
   "metadata": {},
   "outputs": [],
   "source": [
    "def correlation(dataset, threshold):\n",
    "    col_corr = set()  # Set of all the names of correlated columns\n",
    "    corr_matrix = dataset.corr()\n",
    "    for i in range(len(corr_matrix.columns)):\n",
    "        for j in range(i):\n",
    "            if abs(corr_matrix.iloc[i, j]) > threshold: # we are interested in absolute coeff value\n",
    "                colname = corr_matrix.columns[i]  # getting the name of column\n",
    "                col_corr.add(colname)\n",
    "    return col_corr"
   ]
  },
  {
   "cell_type": "code",
   "execution_count": 17,
   "metadata": {},
   "outputs": [
    {
     "data": {
      "text/plain": [
       "5"
      ]
     },
     "execution_count": 17,
     "metadata": {},
     "output_type": "execute_result"
    }
   ],
   "source": [
    "corr_features = correlation(X, 0.9)\n",
    "len(set(corr_features))"
   ]
  },
  {
   "cell_type": "code",
   "execution_count": 18,
   "metadata": {},
   "outputs": [
    {
     "data": {
      "text/plain": [
       "{'BILL_AMT2', 'BILL_AMT3', 'BILL_AMT4', 'BILL_AMT5', 'BILL_AMT6'}"
      ]
     },
     "execution_count": 18,
     "metadata": {},
     "output_type": "execute_result"
    }
   ],
   "source": [
    "corr_features"
   ]
  },
  {
   "cell_type": "code",
   "execution_count": 19,
   "metadata": {},
   "outputs": [],
   "source": [
    "df1[\"default payment next month\"]=0\n",
    "\n",
    "\n",
    "test_x=df1.drop('default payment next month',axis=1)\n",
    "test_y =df1[\"default payment next month\"]"
   ]
  },
  {
   "cell_type": "code",
   "execution_count": 20,
   "metadata": {},
   "outputs": [],
   "source": [
    "from sklearn.linear_model import LogisticRegression\n",
    "from sklearn import metrics"
   ]
  },
  {
   "cell_type": "code",
   "execution_count": 21,
   "metadata": {},
   "outputs": [
    {
     "name": "stderr",
     "output_type": "stream",
     "text": [
      "C:\\Users\\SNEHA\\anaconda3\\lib\\site-packages\\sklearn\\linear_model\\_logistic.py:444: ConvergenceWarning: lbfgs failed to converge (status=1):\n",
      "STOP: TOTAL NO. of ITERATIONS REACHED LIMIT.\n",
      "\n",
      "Increase the number of iterations (max_iter) or scale the data as shown in:\n",
      "    https://scikit-learn.org/stable/modules/preprocessing.html\n",
      "Please also refer to the documentation for alternative solver options:\n",
      "    https://scikit-learn.org/stable/modules/linear_model.html#logistic-regression\n",
      "  n_iter_i = _check_optimize_result(\n"
     ]
    },
    {
     "data": {
      "text/html": [
       "<style>#sk-container-id-1 {color: black;background-color: white;}#sk-container-id-1 pre{padding: 0;}#sk-container-id-1 div.sk-toggleable {background-color: white;}#sk-container-id-1 label.sk-toggleable__label {cursor: pointer;display: block;width: 100%;margin-bottom: 0;padding: 0.3em;box-sizing: border-box;text-align: center;}#sk-container-id-1 label.sk-toggleable__label-arrow:before {content: \"▸\";float: left;margin-right: 0.25em;color: #696969;}#sk-container-id-1 label.sk-toggleable__label-arrow:hover:before {color: black;}#sk-container-id-1 div.sk-estimator:hover label.sk-toggleable__label-arrow:before {color: black;}#sk-container-id-1 div.sk-toggleable__content {max-height: 0;max-width: 0;overflow: hidden;text-align: left;background-color: #f0f8ff;}#sk-container-id-1 div.sk-toggleable__content pre {margin: 0.2em;color: black;border-radius: 0.25em;background-color: #f0f8ff;}#sk-container-id-1 input.sk-toggleable__control:checked~div.sk-toggleable__content {max-height: 200px;max-width: 100%;overflow: auto;}#sk-container-id-1 input.sk-toggleable__control:checked~label.sk-toggleable__label-arrow:before {content: \"▾\";}#sk-container-id-1 div.sk-estimator input.sk-toggleable__control:checked~label.sk-toggleable__label {background-color: #d4ebff;}#sk-container-id-1 div.sk-label input.sk-toggleable__control:checked~label.sk-toggleable__label {background-color: #d4ebff;}#sk-container-id-1 input.sk-hidden--visually {border: 0;clip: rect(1px 1px 1px 1px);clip: rect(1px, 1px, 1px, 1px);height: 1px;margin: -1px;overflow: hidden;padding: 0;position: absolute;width: 1px;}#sk-container-id-1 div.sk-estimator {font-family: monospace;background-color: #f0f8ff;border: 1px dotted black;border-radius: 0.25em;box-sizing: border-box;margin-bottom: 0.5em;}#sk-container-id-1 div.sk-estimator:hover {background-color: #d4ebff;}#sk-container-id-1 div.sk-parallel-item::after {content: \"\";width: 100%;border-bottom: 1px solid gray;flex-grow: 1;}#sk-container-id-1 div.sk-label:hover label.sk-toggleable__label {background-color: #d4ebff;}#sk-container-id-1 div.sk-serial::before {content: \"\";position: absolute;border-left: 1px solid gray;box-sizing: border-box;top: 0;bottom: 0;left: 50%;z-index: 0;}#sk-container-id-1 div.sk-serial {display: flex;flex-direction: column;align-items: center;background-color: white;padding-right: 0.2em;padding-left: 0.2em;position: relative;}#sk-container-id-1 div.sk-item {position: relative;z-index: 1;}#sk-container-id-1 div.sk-parallel {display: flex;align-items: stretch;justify-content: center;background-color: white;position: relative;}#sk-container-id-1 div.sk-item::before, #sk-container-id-1 div.sk-parallel-item::before {content: \"\";position: absolute;border-left: 1px solid gray;box-sizing: border-box;top: 0;bottom: 0;left: 50%;z-index: -1;}#sk-container-id-1 div.sk-parallel-item {display: flex;flex-direction: column;z-index: 1;position: relative;background-color: white;}#sk-container-id-1 div.sk-parallel-item:first-child::after {align-self: flex-end;width: 50%;}#sk-container-id-1 div.sk-parallel-item:last-child::after {align-self: flex-start;width: 50%;}#sk-container-id-1 div.sk-parallel-item:only-child::after {width: 0;}#sk-container-id-1 div.sk-dashed-wrapped {border: 1px dashed gray;margin: 0 0.4em 0.5em 0.4em;box-sizing: border-box;padding-bottom: 0.4em;background-color: white;}#sk-container-id-1 div.sk-label label {font-family: monospace;font-weight: bold;display: inline-block;line-height: 1.2em;}#sk-container-id-1 div.sk-label-container {text-align: center;}#sk-container-id-1 div.sk-container {/* jupyter's `normalize.less` sets `[hidden] { display: none; }` but bootstrap.min.css set `[hidden] { display: none !important; }` so we also need the `!important` here to be able to override the default hidden behavior on the sphinx rendered scikit-learn.org. See: https://github.com/scikit-learn/scikit-learn/issues/21755 */display: inline-block !important;position: relative;}#sk-container-id-1 div.sk-text-repr-fallback {display: none;}</style><div id=\"sk-container-id-1\" class=\"sk-top-container\"><div class=\"sk-text-repr-fallback\"><pre>LogisticRegression()</pre><b>In a Jupyter environment, please rerun this cell to show the HTML representation or trust the notebook. <br />On GitHub, the HTML representation is unable to render, please try loading this page with nbviewer.org.</b></div><div class=\"sk-container\" hidden><div class=\"sk-item\"><div class=\"sk-estimator sk-toggleable\"><input class=\"sk-toggleable__control sk-hidden--visually\" id=\"sk-estimator-id-1\" type=\"checkbox\" checked><label for=\"sk-estimator-id-1\" class=\"sk-toggleable__label sk-toggleable__label-arrow\">LogisticRegression</label><div class=\"sk-toggleable__content\"><pre>LogisticRegression()</pre></div></div></div></div></div>"
      ],
      "text/plain": [
       "LogisticRegression()"
      ]
     },
     "execution_count": 21,
     "metadata": {},
     "output_type": "execute_result"
    }
   ],
   "source": [
    "logreg = LogisticRegression()\n",
    "logreg.fit(X, y)"
   ]
  },
  {
   "cell_type": "code",
   "execution_count": 22,
   "metadata": {},
   "outputs": [
    {
     "name": "stdout",
     "output_type": "stream",
     "text": [
      "Accuracy of logistic regression classifier on test set: 1.00\n"
     ]
    }
   ],
   "source": [
    "y_pred = logreg.predict(test_x)\n",
    "print('Accuracy of logistic regression classifier on test set: {:.2f}'.format(logreg.score(test_x, test_y)))"
   ]
  },
  {
   "cell_type": "code",
   "execution_count": 23,
   "metadata": {},
   "outputs": [
    {
     "name": "stdout",
     "output_type": "stream",
     "text": [
      "[[3000]]\n"
     ]
    }
   ],
   "source": [
    "from sklearn.metrics import confusion_matrix\n",
    "confusion_matrix = confusion_matrix(test_y, y_pred)\n",
    "print(confusion_matrix)"
   ]
  },
  {
   "cell_type": "code",
   "execution_count": 24,
   "metadata": {},
   "outputs": [
    {
     "name": "stdout",
     "output_type": "stream",
     "text": [
      "              precision    recall  f1-score   support\n",
      "\n",
      "           0       1.00      1.00      1.00      3000\n",
      "\n",
      "    accuracy                           1.00      3000\n",
      "   macro avg       1.00      1.00      1.00      3000\n",
      "weighted avg       1.00      1.00      1.00      3000\n",
      "\n"
     ]
    }
   ],
   "source": [
    "from sklearn.metrics import classification_report\n",
    "print(classification_report(test_y, y_pred))"
   ]
  },
  {
   "cell_type": "code",
   "execution_count": 25,
   "metadata": {},
   "outputs": [
    {
     "data": {
      "text/plain": [
       "array([0, 0, 0, ..., 0, 0, 0], dtype=int64)"
      ]
     },
     "execution_count": 25,
     "metadata": {},
     "output_type": "execute_result"
    }
   ],
   "source": [
    "y_pred"
   ]
  },
  {
   "cell_type": "code",
   "execution_count": 26,
   "metadata": {},
   "outputs": [],
   "source": [
    "z=df1['ID']"
   ]
  },
  {
   "cell_type": "code",
   "execution_count": 27,
   "metadata": {},
   "outputs": [],
   "source": [
    "df2 = pd.DataFrame({\n",
    "    \"ID\":z,\n",
    "    \"default payment next month\": y_pred\n",
    "})\n",
    "\n",
    "df2.to_csv(\"submission.csv\", index=False)"
   ]
  },
  {
   "cell_type": "code",
   "execution_count": null,
   "metadata": {},
   "outputs": [],
   "source": []
  },
  {
   "cell_type": "code",
   "execution_count": 28,
   "metadata": {},
   "outputs": [
    {
     "data": {
      "text/html": [
       "<style>#sk-container-id-2 {color: black;background-color: white;}#sk-container-id-2 pre{padding: 0;}#sk-container-id-2 div.sk-toggleable {background-color: white;}#sk-container-id-2 label.sk-toggleable__label {cursor: pointer;display: block;width: 100%;margin-bottom: 0;padding: 0.3em;box-sizing: border-box;text-align: center;}#sk-container-id-2 label.sk-toggleable__label-arrow:before {content: \"▸\";float: left;margin-right: 0.25em;color: #696969;}#sk-container-id-2 label.sk-toggleable__label-arrow:hover:before {color: black;}#sk-container-id-2 div.sk-estimator:hover label.sk-toggleable__label-arrow:before {color: black;}#sk-container-id-2 div.sk-toggleable__content {max-height: 0;max-width: 0;overflow: hidden;text-align: left;background-color: #f0f8ff;}#sk-container-id-2 div.sk-toggleable__content pre {margin: 0.2em;color: black;border-radius: 0.25em;background-color: #f0f8ff;}#sk-container-id-2 input.sk-toggleable__control:checked~div.sk-toggleable__content {max-height: 200px;max-width: 100%;overflow: auto;}#sk-container-id-2 input.sk-toggleable__control:checked~label.sk-toggleable__label-arrow:before {content: \"▾\";}#sk-container-id-2 div.sk-estimator input.sk-toggleable__control:checked~label.sk-toggleable__label {background-color: #d4ebff;}#sk-container-id-2 div.sk-label input.sk-toggleable__control:checked~label.sk-toggleable__label {background-color: #d4ebff;}#sk-container-id-2 input.sk-hidden--visually {border: 0;clip: rect(1px 1px 1px 1px);clip: rect(1px, 1px, 1px, 1px);height: 1px;margin: -1px;overflow: hidden;padding: 0;position: absolute;width: 1px;}#sk-container-id-2 div.sk-estimator {font-family: monospace;background-color: #f0f8ff;border: 1px dotted black;border-radius: 0.25em;box-sizing: border-box;margin-bottom: 0.5em;}#sk-container-id-2 div.sk-estimator:hover {background-color: #d4ebff;}#sk-container-id-2 div.sk-parallel-item::after {content: \"\";width: 100%;border-bottom: 1px solid gray;flex-grow: 1;}#sk-container-id-2 div.sk-label:hover label.sk-toggleable__label {background-color: #d4ebff;}#sk-container-id-2 div.sk-serial::before {content: \"\";position: absolute;border-left: 1px solid gray;box-sizing: border-box;top: 0;bottom: 0;left: 50%;z-index: 0;}#sk-container-id-2 div.sk-serial {display: flex;flex-direction: column;align-items: center;background-color: white;padding-right: 0.2em;padding-left: 0.2em;position: relative;}#sk-container-id-2 div.sk-item {position: relative;z-index: 1;}#sk-container-id-2 div.sk-parallel {display: flex;align-items: stretch;justify-content: center;background-color: white;position: relative;}#sk-container-id-2 div.sk-item::before, #sk-container-id-2 div.sk-parallel-item::before {content: \"\";position: absolute;border-left: 1px solid gray;box-sizing: border-box;top: 0;bottom: 0;left: 50%;z-index: -1;}#sk-container-id-2 div.sk-parallel-item {display: flex;flex-direction: column;z-index: 1;position: relative;background-color: white;}#sk-container-id-2 div.sk-parallel-item:first-child::after {align-self: flex-end;width: 50%;}#sk-container-id-2 div.sk-parallel-item:last-child::after {align-self: flex-start;width: 50%;}#sk-container-id-2 div.sk-parallel-item:only-child::after {width: 0;}#sk-container-id-2 div.sk-dashed-wrapped {border: 1px dashed gray;margin: 0 0.4em 0.5em 0.4em;box-sizing: border-box;padding-bottom: 0.4em;background-color: white;}#sk-container-id-2 div.sk-label label {font-family: monospace;font-weight: bold;display: inline-block;line-height: 1.2em;}#sk-container-id-2 div.sk-label-container {text-align: center;}#sk-container-id-2 div.sk-container {/* jupyter's `normalize.less` sets `[hidden] { display: none; }` but bootstrap.min.css set `[hidden] { display: none !important; }` so we also need the `!important` here to be able to override the default hidden behavior on the sphinx rendered scikit-learn.org. See: https://github.com/scikit-learn/scikit-learn/issues/21755 */display: inline-block !important;position: relative;}#sk-container-id-2 div.sk-text-repr-fallback {display: none;}</style><div id=\"sk-container-id-2\" class=\"sk-top-container\"><div class=\"sk-text-repr-fallback\"><pre>GaussianNB()</pre><b>In a Jupyter environment, please rerun this cell to show the HTML representation or trust the notebook. <br />On GitHub, the HTML representation is unable to render, please try loading this page with nbviewer.org.</b></div><div class=\"sk-container\" hidden><div class=\"sk-item\"><div class=\"sk-estimator sk-toggleable\"><input class=\"sk-toggleable__control sk-hidden--visually\" id=\"sk-estimator-id-2\" type=\"checkbox\" checked><label for=\"sk-estimator-id-2\" class=\"sk-toggleable__label sk-toggleable__label-arrow\">GaussianNB</label><div class=\"sk-toggleable__content\"><pre>GaussianNB()</pre></div></div></div></div></div>"
      ],
      "text/plain": [
       "GaussianNB()"
      ]
     },
     "execution_count": 28,
     "metadata": {},
     "output_type": "execute_result"
    }
   ],
   "source": [
    "from sklearn.naive_bayes import GaussianNB\n",
    "gnb = GaussianNB()\n",
    "\n",
    "gnb.fit(X, y)\n"
   ]
  },
  {
   "cell_type": "code",
   "execution_count": 29,
   "metadata": {},
   "outputs": [
    {
     "data": {
      "text/plain": [
       "array([1, 1, 1, ..., 1, 1, 1], dtype=int64)"
      ]
     },
     "execution_count": 29,
     "metadata": {},
     "output_type": "execute_result"
    }
   ],
   "source": [
    "y_pred = gnb.predict(test_x)\n",
    "\n",
    "y_pred"
   ]
  },
  {
   "cell_type": "code",
   "execution_count": 30,
   "metadata": {},
   "outputs": [
    {
     "name": "stdout",
     "output_type": "stream",
     "text": [
      "              precision    recall  f1-score   support\n",
      "\n",
      "           0       1.00      0.21      0.35      3000\n",
      "           1       0.00      0.00      0.00         0\n",
      "\n",
      "    accuracy                           0.21      3000\n",
      "   macro avg       0.50      0.10      0.17      3000\n",
      "weighted avg       1.00      0.21      0.35      3000\n",
      "\n"
     ]
    },
    {
     "name": "stderr",
     "output_type": "stream",
     "text": [
      "C:\\Users\\SNEHA\\anaconda3\\lib\\site-packages\\sklearn\\metrics\\_classification.py:1327: UndefinedMetricWarning: Recall and F-score are ill-defined and being set to 0.0 in labels with no true samples. Use `zero_division` parameter to control this behavior.\n",
      "  _warn_prf(average, modifier, msg_start, len(result))\n",
      "C:\\Users\\SNEHA\\anaconda3\\lib\\site-packages\\sklearn\\metrics\\_classification.py:1327: UndefinedMetricWarning: Recall and F-score are ill-defined and being set to 0.0 in labels with no true samples. Use `zero_division` parameter to control this behavior.\n",
      "  _warn_prf(average, modifier, msg_start, len(result))\n",
      "C:\\Users\\SNEHA\\anaconda3\\lib\\site-packages\\sklearn\\metrics\\_classification.py:1327: UndefinedMetricWarning: Recall and F-score are ill-defined and being set to 0.0 in labels with no true samples. Use `zero_division` parameter to control this behavior.\n",
      "  _warn_prf(average, modifier, msg_start, len(result))\n"
     ]
    }
   ],
   "source": [
    "from sklearn.metrics import classification_report\n",
    "print(classification_report(test_y, y_pred))"
   ]
  },
  {
   "cell_type": "code",
   "execution_count": 31,
   "metadata": {},
   "outputs": [
    {
     "name": "stdout",
     "output_type": "stream",
     "text": [
      "Model accuracy score: 0.2093\n"
     ]
    }
   ],
   "source": [
    "from sklearn.metrics import accuracy_score\n",
    "\n",
    "print('Model accuracy score: {0:0.4f}'. format(accuracy_score(test_y, y_pred)))"
   ]
  },
  {
   "cell_type": "code",
   "execution_count": null,
   "metadata": {},
   "outputs": [],
   "source": []
  },
  {
   "cell_type": "code",
   "execution_count": 32,
   "metadata": {},
   "outputs": [],
   "source": [
    "from sklearn.ensemble import RandomForestClassifier\n",
    "rfr=RandomForestClassifier(n_estimators=5,random_state=0)\n",
    "rfr.fit(X,y)\n",
    "\n",
    "rfrpred=rfr.predict(test_x)"
   ]
  },
  {
   "cell_type": "code",
   "execution_count": 33,
   "metadata": {},
   "outputs": [],
   "source": [
    "y_pred_rfr=rfr.predict(test_x)"
   ]
  },
  {
   "cell_type": "code",
   "execution_count": 34,
   "metadata": {},
   "outputs": [
    {
     "name": "stdout",
     "output_type": "stream",
     "text": [
      "              precision    recall  f1-score   support\n",
      "\n",
      "           0       1.00      0.79      0.88      3000\n",
      "           1       0.00      0.00      0.00         0\n",
      "\n",
      "    accuracy                           0.79      3000\n",
      "   macro avg       0.50      0.40      0.44      3000\n",
      "weighted avg       1.00      0.79      0.88      3000\n",
      "\n"
     ]
    },
    {
     "name": "stderr",
     "output_type": "stream",
     "text": [
      "C:\\Users\\SNEHA\\anaconda3\\lib\\site-packages\\sklearn\\metrics\\_classification.py:1327: UndefinedMetricWarning: Recall and F-score are ill-defined and being set to 0.0 in labels with no true samples. Use `zero_division` parameter to control this behavior.\n",
      "  _warn_prf(average, modifier, msg_start, len(result))\n",
      "C:\\Users\\SNEHA\\anaconda3\\lib\\site-packages\\sklearn\\metrics\\_classification.py:1327: UndefinedMetricWarning: Recall and F-score are ill-defined and being set to 0.0 in labels with no true samples. Use `zero_division` parameter to control this behavior.\n",
      "  _warn_prf(average, modifier, msg_start, len(result))\n",
      "C:\\Users\\SNEHA\\anaconda3\\lib\\site-packages\\sklearn\\metrics\\_classification.py:1327: UndefinedMetricWarning: Recall and F-score are ill-defined and being set to 0.0 in labels with no true samples. Use `zero_division` parameter to control this behavior.\n",
      "  _warn_prf(average, modifier, msg_start, len(result))\n"
     ]
    }
   ],
   "source": [
    "from sklearn.metrics import classification_report\n",
    "print(classification_report(test_y,y_pred_rfr))"
   ]
  },
  {
   "cell_type": "code",
   "execution_count": 35,
   "metadata": {},
   "outputs": [],
   "source": [
    "from sklearn.metrics import accuracy_score\n",
    "accuracy=accuracy_score(test_y,y_pred_rfr)"
   ]
  },
  {
   "cell_type": "code",
   "execution_count": 36,
   "metadata": {},
   "outputs": [
    {
     "data": {
      "text/plain": [
       "0.7913333333333333"
      ]
     },
     "execution_count": 36,
     "metadata": {},
     "output_type": "execute_result"
    }
   ],
   "source": [
    "accuracy"
   ]
  },
  {
   "cell_type": "code",
   "execution_count": 37,
   "metadata": {},
   "outputs": [
    {
     "data": {
      "text/plain": [
       "array([0, 0, 0, ..., 0, 0, 0], dtype=int64)"
      ]
     },
     "execution_count": 37,
     "metadata": {},
     "output_type": "execute_result"
    }
   ],
   "source": [
    "y_pred_rfr"
   ]
  },
  {
   "cell_type": "code",
   "execution_count": 64,
   "metadata": {},
   "outputs": [],
   "source": [
    "df2 = pd.DataFrame({\n",
    "    \"ID\":z,\n",
    "    \"default payment next month\": y_pred_rfr\n",
    "})\n",
    "\n",
    "df2.to_csv(\"submission.csv\", index=False)"
   ]
  },
  {
   "cell_type": "code",
   "execution_count": 38,
   "metadata": {},
   "outputs": [
    {
     "data": {
      "text/plain": [
       "<matplotlib.collections.PathCollection at 0x179fc5004c0>"
      ]
     },
     "execution_count": 38,
     "metadata": {},
     "output_type": "execute_result"
    },
    {
     "data": {
      "image/png": "[encoded data removed]",
      "text/plain": [
       "<Figure size 432x288 with 1 Axes>"
      ]
     },
     "metadata": {
      "needs_background": "light"
     },
     "output_type": "display_data"
    }
   ],
   "source": [
    "plt.scatter(y_pred_rfr,test_y)"
   ]
  },
  {
   "cell_type": "code",
   "execution_count": 39,
   "metadata": {},
   "outputs": [],
   "source": [
    "import matplotlib.pyplot as plt"
   ]
  },
  {
   "cell_type": "code",
   "execution_count": 40,
   "metadata": {},
   "outputs": [],
   "source": [
    "from sklearn.preprocessing import StandardScaler\n",
    "sc = StandardScaler()\n",
    "X = sc.fit_transform(X)\n",
    "test_x = sc.transform(test_x)"
   ]
  },
  {
   "cell_type": "code",
   "execution_count": null,
   "metadata": {},
   "outputs": [],
   "source": []
  },
  {
   "cell_type": "code",
   "execution_count": 56,
   "metadata": {},
   "outputs": [
    {
     "data": {
      "text/html": [
       "<style>#sk-container-id-5 {color: black;background-color: white;}#sk-container-id-5 pre{padding: 0;}#sk-container-id-5 div.sk-toggleable {background-color: white;}#sk-container-id-5 label.sk-toggleable__label {cursor: pointer;display: block;width: 100%;margin-bottom: 0;padding: 0.3em;box-sizing: border-box;text-align: center;}#sk-container-id-5 label.sk-toggleable__label-arrow:before {content: \"▸\";float: left;margin-right: 0.25em;color: #696969;}#sk-container-id-5 label.sk-toggleable__label-arrow:hover:before {color: black;}#sk-container-id-5 div.sk-estimator:hover label.sk-toggleable__label-arrow:before {color: black;}#sk-container-id-5 div.sk-toggleable__content {max-height: 0;max-width: 0;overflow: hidden;text-align: left;background-color: #f0f8ff;}#sk-container-id-5 div.sk-toggleable__content pre {margin: 0.2em;color: black;border-radius: 0.25em;background-color: #f0f8ff;}#sk-container-id-5 input.sk-toggleable__control:checked~div.sk-toggleable__content {max-height: 200px;max-width: 100%;overflow: auto;}#sk-container-id-5 input.sk-toggleable__control:checked~label.sk-toggleable__label-arrow:before {content: \"▾\";}#sk-container-id-5 div.sk-estimator input.sk-toggleable__control:checked~label.sk-toggleable__label {background-color: #d4ebff;}#sk-container-id-5 div.sk-label input.sk-toggleable__control:checked~label.sk-toggleable__label {background-color: #d4ebff;}#sk-container-id-5 input.sk-hidden--visually {border: 0;clip: rect(1px 1px 1px 1px);clip: rect(1px, 1px, 1px, 1px);height: 1px;margin: -1px;overflow: hidden;padding: 0;position: absolute;width: 1px;}#sk-container-id-5 div.sk-estimator {font-family: monospace;background-color: #f0f8ff;border: 1px dotted black;border-radius: 0.25em;box-sizing: border-box;margin-bottom: 0.5em;}#sk-container-id-5 div.sk-estimator:hover {background-color: #d4ebff;}#sk-container-id-5 div.sk-parallel-item::after {content: \"\";width: 100%;border-bottom: 1px solid gray;flex-grow: 1;}#sk-container-id-5 div.sk-label:hover label.sk-toggleable__label {background-color: #d4ebff;}#sk-container-id-5 div.sk-serial::before {content: \"\";position: absolute;border-left: 1px solid gray;box-sizing: border-box;top: 0;bottom: 0;left: 50%;z-index: 0;}#sk-container-id-5 div.sk-serial {display: flex;flex-direction: column;align-items: center;background-color: white;padding-right: 0.2em;padding-left: 0.2em;position: relative;}#sk-container-id-5 div.sk-item {position: relative;z-index: 1;}#sk-container-id-5 div.sk-parallel {display: flex;align-items: stretch;justify-content: center;background-color: white;position: relative;}#sk-container-id-5 div.sk-item::before, #sk-container-id-5 div.sk-parallel-item::before {content: \"\";position: absolute;border-left: 1px solid gray;box-sizing: border-box;top: 0;bottom: 0;left: 50%;z-index: -1;}#sk-container-id-5 div.sk-parallel-item {display: flex;flex-direction: column;z-index: 1;position: relative;background-color: white;}#sk-container-id-5 div.sk-parallel-item:first-child::after {align-self: flex-end;width: 50%;}#sk-container-id-5 div.sk-parallel-item:last-child::after {align-self: flex-start;width: 50%;}#sk-container-id-5 div.sk-parallel-item:only-child::after {width: 0;}#sk-container-id-5 div.sk-dashed-wrapped {border: 1px dashed gray;margin: 0 0.4em 0.5em 0.4em;box-sizing: border-box;padding-bottom: 0.4em;background-color: white;}#sk-container-id-5 div.sk-label label {font-family: monospace;font-weight: bold;display: inline-block;line-height: 1.2em;}#sk-container-id-5 div.sk-label-container {text-align: center;}#sk-container-id-5 div.sk-container {/* jupyter's `normalize.less` sets `[hidden] { display: none; }` but bootstrap.min.css set `[hidden] { display: none !important; }` so we also need the `!important` here to be able to override the default hidden behavior on the sphinx rendered scikit-learn.org. See: https://github.com/scikit-learn/scikit-learn/issues/21755 */display: inline-block !important;position: relative;}#sk-container-id-5 div.sk-text-repr-fallback {display: none;}</style><div id=\"sk-container-id-5\" class=\"sk-top-container\"><div class=\"sk-text-repr-fallback\"><pre>KNeighborsClassifier(n_neighbors=7)</pre><b>In a Jupyter environment, please rerun this cell to show the HTML representation or trust the notebook. <br />On GitHub, the HTML representation is unable to render, please try loading this page with nbviewer.org.</b></div><div class=\"sk-container\" hidden><div class=\"sk-item\"><div class=\"sk-estimator sk-toggleable\"><input class=\"sk-toggleable__control sk-hidden--visually\" id=\"sk-estimator-id-5\" type=\"checkbox\" checked><label for=\"sk-estimator-id-5\" class=\"sk-toggleable__label sk-toggleable__label-arrow\">KNeighborsClassifier</label><div class=\"sk-toggleable__content\"><pre>KNeighborsClassifier(n_neighbors=7)</pre></div></div></div></div></div>"
      ],
      "text/plain": [
       "KNeighborsClassifier(n_neighbors=7)"
      ]
     },
     "execution_count": 56,
     "metadata": {},
     "output_type": "execute_result"
    }
   ],
   "source": [
    "from sklearn.neighbors import KNeighborsClassifier\n",
    "classifier = KNeighborsClassifier(n_neighbors = 7, metric = 'minkowski', p = 2)\n",
    "classifier.fit(X, y)\n"
   ]
  },
  {
   "cell_type": "code",
   "execution_count": 57,
   "metadata": {},
   "outputs": [],
   "source": [
    "y_pred1 = classifier.predict(test_x)"
   ]
  },
  {
   "cell_type": "code",
   "execution_count": 58,
   "metadata": {},
   "outputs": [],
   "source": [
    "from sklearn.metrics import confusion_matrix,accuracy_score\n",
    "cm = confusion_matrix(test_y, y_pred)\n",
    "ac = accuracy_score(test_y,y_pred)"
   ]
  },
  {
   "cell_type": "code",
   "execution_count": 59,
   "metadata": {},
   "outputs": [
    {
     "data": {
      "text/plain": [
       "array([[2594,  406],\n",
       "       [   0,    0]], dtype=int64)"
      ]
     },
     "execution_count": 59,
     "metadata": {},
     "output_type": "execute_result"
    }
   ],
   "source": [
    "cm"
   ]
  },
  {
   "cell_type": "code",
   "execution_count": 60,
   "metadata": {},
   "outputs": [
    {
     "data": {
      "text/plain": [
       "0.8646666666666667"
      ]
     },
     "execution_count": 60,
     "metadata": {},
     "output_type": "execute_result"
    }
   ],
   "source": [
    "ac"
   ]
  },
  {
   "cell_type": "code",
   "execution_count": 61,
   "metadata": {},
   "outputs": [
    {
     "data": {
      "text/plain": [
       "array([0, 0, 0, ..., 0, 0, 0], dtype=int64)"
      ]
     },
     "execution_count": 61,
     "metadata": {},
     "output_type": "execute_result"
    }
   ],
   "source": [
    "y_pred1"
   ]
  },
  {
   "cell_type": "code",
   "execution_count": 62,
   "metadata": {},
   "outputs": [
    {
     "data": {
      "text/plain": [
       "0       0\n",
       "1       0\n",
       "2       0\n",
       "3       0\n",
       "4       0\n",
       "       ..\n",
       "2995    0\n",
       "2996    0\n",
       "2997    0\n",
       "2998    0\n",
       "2999    0\n",
       "Name: default payment next month, Length: 3000, dtype: int64"
      ]
     },
     "execution_count": 62,
     "metadata": {},
     "output_type": "execute_result"
    }
   ],
   "source": [
    "test_y"
   ]
  },
  {
   "cell_type": "code",
   "execution_count": 63,
   "metadata": {},
   "outputs": [],
   "source": [
    "df2 = pd.DataFrame({\n",
    "    \"ID\":z,\n",
    "    \"default payment next month\": y_pred1\n",
    "})\n",
    "\n",
    "df2.to_csv(\"submission.csv\", index=False)"
   ]
  },
  {
   "cell_type": "code",
   "execution_count": null,
   "metadata": {},
   "outputs": [],
   "source": []
  }
 ],
 "metadata": {
  "kernelspec": {
   "display_name": "Python 3",
   "language": "python",
   "name": "python3"
  },
  "language_info": {
   "codemirror_mode": {
    "name": "ipython",
    "version": 3
   },
   "file_extension": ".py",
   "mimetype": "text/x-python",
   "name": "python",
   "nbconvert_exporter": "python",
   "pygments_lexer": "ipython3",
   "version": "3.8.5"
  }
 },
 "nbformat": 4,
 "nbformat_minor": 4
}
